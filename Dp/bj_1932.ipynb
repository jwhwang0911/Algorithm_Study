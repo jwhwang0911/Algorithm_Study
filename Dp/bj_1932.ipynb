{
 "cells": [
  {
   "cell_type": "code",
   "execution_count": 7,
   "id": "a27e0e0e",
   "metadata": {},
   "outputs": [
    {
     "name": "stdout",
     "output_type": "stream",
     "text": [
      "5\n",
      "7\n",
      "3 8\n",
      "8 1 0\n",
      "2 7 4 4\n",
      "4 5 2 6 5\n",
      "30\n"
     ]
    }
   ],
   "source": [
    "n  = int(input())\n",
    "dp = []\n",
    "\n",
    "for i in range(n):\n",
    "    dp.append(list(map(int, input().split())))\n",
    "    \n",
    "\n",
    "for i in range(1,n):\n",
    "    for j in range(i+1):\n",
    "        if j == 0:\n",
    "            dp[i][j] = dp[i][j] + dp[i-1][j]\n",
    "        elif i == j:\n",
    "            dp[i][j] = dp[i][j] + dp[i-1][j-1]\n",
    "        else:\n",
    "            dp[i][j] = dp[i][j] + max(dp[i-1][j-1], dp[i-1][j])\n",
    "        \n",
    "print(max(dp[n-1]))"
   ]
  },
  {
   "cell_type": "code",
   "execution_count": null,
   "id": "d9ef97e4",
   "metadata": {},
   "outputs": [],
   "source": []
  }
 ],
 "metadata": {
  "kernelspec": {
   "display_name": "Python 3",
   "language": "python",
   "name": "python3"
  },
  "language_info": {
   "codemirror_mode": {
    "name": "ipython",
    "version": 3
   },
   "file_extension": ".py",
   "mimetype": "text/x-python",
   "name": "python",
   "nbconvert_exporter": "python",
   "pygments_lexer": "ipython3",
   "version": "3.8.8"
  }
 },
 "nbformat": 4,
 "nbformat_minor": 5
}
