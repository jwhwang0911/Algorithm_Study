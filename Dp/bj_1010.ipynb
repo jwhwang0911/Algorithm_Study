{
 "cells": [
  {
   "cell_type": "code",
   "execution_count": 13,
   "id": "042e2f5f",
   "metadata": {
    "scrolled": true
   },
   "outputs": [
    {
     "name": "stdout",
     "output_type": "stream",
     "text": [
      "3\n",
      "2 2\n",
      "1\n",
      "1 5\n",
      "5\n",
      "13 29\n",
      "67863915\n"
     ]
    }
   ],
   "source": [
    "if __name__ == \"__main__\":\n",
    "    N = int(input())\n",
    "    \n",
    "    dp = [[0]*31 for i in range(31)]\n",
    "    for i in range(31):\n",
    "        dp[1][i] = i\n",
    "        \n",
    "    for i in range(2,31):\n",
    "        for j in range(i,31):\n",
    "            for k in range(i-1, j):\n",
    "                dp[i][j] = dp[i][j]+dp[i-1][k]\n",
    "                \n",
    "    for i in range(N):\n",
    "        n,m = input().split()\n",
    "        n = int(n)\n",
    "        m = int(m)\n",
    "        print(dp[n][m])\n",
    "    "
   ]
  },
  {
   "cell_type": "code",
   "execution_count": null,
   "id": "cb64ae4f",
   "metadata": {},
   "outputs": [],
   "source": []
  },
  {
   "cell_type": "code",
   "execution_count": null,
   "id": "6aea41d5",
   "metadata": {},
   "outputs": [],
   "source": []
  },
  {
   "cell_type": "code",
   "execution_count": null,
   "id": "5c699582",
   "metadata": {},
   "outputs": [],
   "source": []
  }
 ],
 "metadata": {
  "kernelspec": {
   "display_name": "Python 3",
   "language": "python",
   "name": "python3"
  },
  "language_info": {
   "codemirror_mode": {
    "name": "ipython",
    "version": 3
   },
   "file_extension": ".py",
   "mimetype": "text/x-python",
   "name": "python",
   "nbconvert_exporter": "python",
   "pygments_lexer": "ipython3",
   "version": "3.8.8"
  }
 },
 "nbformat": 4,
 "nbformat_minor": 5
}
