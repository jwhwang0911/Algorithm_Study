{
 "cells": [
  {
   "cell_type": "code",
   "execution_count": 4,
   "id": "6bc49afe",
   "metadata": {},
   "outputs": [
    {
     "name": "stdout",
     "output_type": "stream",
     "text": [
      "3\n",
      "26 40 83\n",
      "49 60 57\n",
      "13 89 99\n",
      "96\n"
     ]
    }
   ],
   "source": [
    "n = int(input())\n",
    "dp = []\n",
    "\n",
    "for i in range(n):\n",
    "    dp.append(list(map(int, input().split())))\n",
    "    \n",
    "for i in range(1,n):\n",
    "    dp[i][0] = min(dp[i-1][1], dp[i-1][2])+dp[i][0]\n",
    "    dp[i][1] = min(dp[i-1][0], dp[i-1][2])+dp[i][1]\n",
    "    dp[i][2] = min(dp[i-1][0], dp[i-1][1])+dp[i][2]\n",
    "\n",
    "print(min(dp[n-1][0], dp[n-1][1], dp[n-1][2]))"
   ]
  },
  {
   "cell_type": "code",
   "execution_count": null,
   "id": "ae2abe05",
   "metadata": {},
   "outputs": [],
   "source": []
  }
 ],
 "metadata": {
  "kernelspec": {
   "display_name": "Python 3",
   "language": "python",
   "name": "python3"
  },
  "language_info": {
   "codemirror_mode": {
    "name": "ipython",
    "version": 3
   },
   "file_extension": ".py",
   "mimetype": "text/x-python",
   "name": "python",
   "nbconvert_exporter": "python",
   "pygments_lexer": "ipython3",
   "version": "3.8.8"
  }
 },
 "nbformat": 4,
 "nbformat_minor": 5
}
